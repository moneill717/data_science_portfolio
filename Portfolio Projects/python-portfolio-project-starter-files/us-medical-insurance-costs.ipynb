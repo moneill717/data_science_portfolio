{
 "cells": [
  {
   "cell_type": "markdown",
   "metadata": {},
   "source": [
    "# U.S. Medical Insurance Costs"
   ]
  },
  {
   "cell_type": "markdown",
   "metadata": {},
   "source": [
    "Let's first take a look at the provided information."
   ]
  },
  {
   "cell_type": "code",
   "execution_count": 99,
   "metadata": {},
   "outputs": [],
   "source": [
    "import csv\n",
    "\n",
    "insurance_table = {}\n",
    "with open('insurance.csv') as insurance_costs:\n",
    "    csv_read = csv.DictReader(insurance_costs)\n",
    "    id = 0\n",
    "    for row in csv_read:\n",
    "        id += 1\n",
    "        insurance_table[id] = row\n",
    "\n",
    "#print(insurance_table)"
   ]
  },
  {
   "cell_type": "markdown",
   "metadata": {},
   "source": [
    "I would like to explore a couple of questions come to mind:\n",
    "1. What is the most expensive region with regard to insurance costs?\n",
    "2. How do the impacts of each factor on insurance costs compare?\n",
    "\n",
    "Let's start with my first question by calculating the average cost of insurance in each region."
   ]
  },
  {
   "cell_type": "code",
   "execution_count": 106,
   "metadata": {},
   "outputs": [
    {
     "name": "stdout",
     "output_type": "stream",
     "text": [
      "The most expensive region for medical insurance is the southeast region, with an average insurance cost of 14735.41 per person.\n",
      "The northeast region follows with an average insurance cost of 13406.38 per person.\n"
     ]
    }
   ],
   "source": [
    "def calculate_average_regional_costs(data_table):\n",
    "    regions = []\n",
    "    regional_totals = {}\n",
    "    regional_counts = {}\n",
    "    regional_averages = {}\n",
    "    for value in data_table.values():\n",
    "        # find all possible regions from the data and calculate the average insurance cost in each region\n",
    "        if value[\"region\"] in regional_totals.keys():\n",
    "            # region already exists in totals, counts, and averages\n",
    "            regional_totals[value[\"region\"]] += float(value[\"charges\"])\n",
    "            regional_counts[value[\"region\"]] += 1\n",
    "            regional_averages[value[\"region\"]] = regional_totals[value[\"region\"]]/regional_counts[value[\"region\"]]\n",
    "        else:\n",
    "            # region does not exist in totals, counts, or averages yet\n",
    "            regional_totals[value[\"region\"]] = float(value[\"charges\"])\n",
    "            regional_counts[value[\"region\"]] = 1\n",
    "            regional_averages[value[\"region\"]] = value[\"charges\"]\n",
    "    regional_data = {}\n",
    "    regional_data[\"sum\"] = regional_totals\n",
    "    regional_data[\"count\"] = regional_counts\n",
    "    regional_data[\"average\"] = regional_averages\n",
    "\n",
    "    sorted_regions_by_cost = {}\n",
    "    max_cost = 0\n",
    "    max_region = \"\"\n",
    "    ranking = 1\n",
    "    no_of_regions = len(regional_averages)\n",
    "    \n",
    "    while ranking <= no_of_regions:\n",
    "        for key in regional_averages.keys():\n",
    "            if regional_averages[key] > max_cost:\n",
    "                max_cost = regional_averages[key]\n",
    "                max_region = key\n",
    "            else:\n",
    "                continue\n",
    "        sorted_regions_by_cost[ranking] = {\"region\":max_region,\"average cost\":max_cost}\n",
    "        removed = regional_averages.pop(max_region)\n",
    "        max_cost = 0\n",
    "        max_region = \"\"\n",
    "        ranking += 1\n",
    "            \n",
    "    print(\"The most expensive region for medical insurance is the {} region, with an average insurance cost of {} per person.\".format(sorted_regions_by_cost[1][\"region\"],round(sorted_regions_by_cost[1][\"average cost\"],2)))\n",
    "    print(\"The {} region follows with an average insurance cost of {} per person.\".format(sorted_regions_by_cost[2][\"region\"],round(sorted_regions_by_cost[2][\"average cost\"],2)))\n",
    "\n",
    "calculate_average_regional_costs(insurance_table)\n",
    "            "
   ]
  }
 ],
 "metadata": {
  "kernelspec": {
   "display_name": "Python 3 (ipykernel)",
   "language": "python",
   "name": "python3"
  },
  "language_info": {
   "codemirror_mode": {
    "name": "ipython",
    "version": 3
   },
   "file_extension": ".py",
   "mimetype": "text/x-python",
   "name": "python",
   "nbconvert_exporter": "python",
   "pygments_lexer": "ipython3",
   "version": "3.12.4"
  }
 },
 "nbformat": 4,
 "nbformat_minor": 4
}
