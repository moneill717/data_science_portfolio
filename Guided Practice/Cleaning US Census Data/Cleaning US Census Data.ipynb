{
 "cells": [
  {
   "cell_type": "markdown",
   "metadata": {},
   "source": [
    "# Cleaning US Census Data"
   ]
  },
  {
   "cell_type": "markdown",
   "metadata": {},
   "source": [
    "You just got hired as a Data Analyst at the Census Bureau, which collects census data and creates interesting visualizations and insights from it.\n",
    "\n",
    "The person who had your job before you left you all the data they had for the most recent census. It is in multiple `csv` files. They didn't use pandas, they would just look through these `csv` files manually whenever they wanted to find something. Sometimes they would copy and paste certain numbers into Excel to make charts.\n",
    "\n",
    "The thought of it makes you shiver. This is not scalable or repeatable.\n",
    "\n",
    "Your boss wants you to make some scatterplots and histograms by the end of the day. Can you get this data into `pandas` and into reasonable shape so that you can make these histograms?"
   ]
  },
  {
   "cell_type": "markdown",
   "metadata": {},
   "source": [
    "## Inspect the Data!"
   ]
  },
  {
   "cell_type": "markdown",
   "metadata": {},
   "source": [
    "1. The first visualization your boss wants you to make is a scatterplot that shows average income in a state vs proportion of women in that state.\n",
    "\n",
    "   Open some of the census `csv` files that came with the kit you downloaded. How are they named? What kind of information do they hold? Will they help us make this graph?"
   ]
  },
  {
   "cell_type": "code",
   "execution_count": null,
   "metadata": {},
   "outputs": [],
   "source": []
  },
  {
   "cell_type": "markdown",
   "metadata": {},
   "source": [
    "2. It will be easier to inspect this data once we have it in a DataFrame. You can't even call `.head()` on these `csv`s! How are you supposed to read them?\n",
    "\n",
    "   Using `glob`, loop through the census files available and load them into DataFrames. Then, concatenate all of those DataFrames together into one DataFrame, called something like `us_census`."
   ]
  },
  {
   "cell_type": "code",
   "execution_count": 101,
   "metadata": {},
   "outputs": [],
   "source": [
    "import pandas as pd\n",
    "import numpy as np\n",
    "import matplotlib.pyplot as plt\n",
    "import glob\n",
    "\n",
    "files = glob.glob(\"states*.csv\")\n",
    "\n",
    "df_list = []\n",
    "for filename in files:\n",
    "  data = pd.read_csv(filename)\n",
    "  df_list.append(data)\n",
    "\n",
    "us_census = pd.concat(df_list)"
   ]
  },
  {
   "cell_type": "markdown",
   "metadata": {},
   "source": [
    "3. Look at the `.columns` and the `.dtypes` of the `us_census` DataFrame. Are those datatypes going to hinder you as you try to make histograms?"
   ]
  },
  {
   "cell_type": "code",
   "execution_count": 103,
   "metadata": {},
   "outputs": [
    {
     "name": "stdout",
     "output_type": "stream",
     "text": [
      "Index(['Unnamed: 0', 'State', 'TotalPop', 'Hispanic', 'White', 'Black',\n",
      "       'Native', 'Asian', 'Pacific', 'Income', 'GenderPop'],\n",
      "      dtype='object')\n",
      "Unnamed: 0     int64\n",
      "State         object\n",
      "TotalPop       int64\n",
      "Hispanic      object\n",
      "White         object\n",
      "Black         object\n",
      "Native        object\n",
      "Asian         object\n",
      "Pacific       object\n",
      "Income        object\n",
      "GenderPop     object\n",
      "dtype: object\n"
     ]
    }
   ],
   "source": [
    "print(us_census.columns)\n",
    "print(us_census.dtypes)"
   ]
  },
  {
   "cell_type": "markdown",
   "metadata": {},
   "source": [
    "4. Look at the `head()` of the DataFrame so that you can understand why some of these `dtypes` are objects instead of integers or floats.\n",
    "\n",
    "   Start to make a plan for how to convert these columns into the right types for manipulation."
   ]
  },
  {
   "cell_type": "code",
   "execution_count": 105,
   "metadata": {},
   "outputs": [
    {
     "name": "stdout",
     "output_type": "stream",
     "text": [
      "   Unnamed: 0           State  TotalPop Hispanic   White   Black Native  \\\n",
      "0           0    Rhode Island   1053661   13.36%  74.33%   5.68%  0.35%   \n",
      "1           1  South Carolina   4777576    5.06%  62.89%  28.75%  0.29%   \n",
      "2           2    South Dakota    843190    3.24%  82.50%   1.42%  9.42%   \n",
      "3           3       Tennessee   6499615    4.72%  73.49%  18.28%  0.23%   \n",
      "4           4           Texas  26538614   38.05%  44.69%  11.65%  0.26%   \n",
      "\n",
      "   Asian Pacific       Income            GenderPop  \n",
      "0  3.25%   0.04%  $59,125.27       510388M_543273F  \n",
      "1  1.25%   0.05%  $46,296.81     2322409M_2455167F  \n",
      "2  1.02%   0.04%  $51,805.41       423477M_419713F  \n",
      "3  1.41%   0.04%  $47,328.08     3167756M_3331859F  \n",
      "4  3.67%   0.07%  $55,874.52   13171316M_13367298F  \n"
     ]
    }
   ],
   "source": [
    "print(us_census.head())"
   ]
  },
  {
   "cell_type": "markdown",
   "metadata": {},
   "source": [
    "## Regex to the Rescue"
   ]
  },
  {
   "cell_type": "markdown",
   "metadata": {},
   "source": [
    "5. Use regex to turn the `Income` column into a format that is ready for conversion into a numerical type."
   ]
  },
  {
   "cell_type": "code",
   "execution_count": 108,
   "metadata": {},
   "outputs": [
    {
     "name": "stdout",
     "output_type": "stream",
     "text": [
      "   Unnamed: 0           State  TotalPop Hispanic   White   Black Native  \\\n",
      "0           0    Rhode Island   1053661   13.36%  74.33%   5.68%  0.35%   \n",
      "1           1  South Carolina   4777576    5.06%  62.89%  28.75%  0.29%   \n",
      "2           2    South Dakota    843190    3.24%  82.50%   1.42%  9.42%   \n",
      "3           3       Tennessee   6499615    4.72%  73.49%  18.28%  0.23%   \n",
      "4           4           Texas  26538614   38.05%  44.69%  11.65%  0.26%   \n",
      "\n",
      "   Asian Pacific    Income            GenderPop  \n",
      "0  3.25%   0.04%  59125.27      510388M_543273F  \n",
      "1  1.25%   0.05%  46296.81    2322409M_2455167F  \n",
      "2  1.02%   0.04%  51805.41      423477M_419713F  \n",
      "3  1.41%   0.04%  47328.08    3167756M_3331859F  \n",
      "4  3.67%   0.07%  55874.52  13171316M_13367298F  \n"
     ]
    },
    {
     "name": "stderr",
     "output_type": "stream",
     "text": [
      "<>:1: SyntaxWarning: invalid escape sequence '\\$'\n",
      "<>:1: SyntaxWarning: invalid escape sequence '\\$'\n",
      "/var/folders/qg/s8gg4vzs3bb5bpn6czk7hhbr0000gp/T/ipykernel_54552/1302753492.py:1: SyntaxWarning: invalid escape sequence '\\$'\n",
      "  us_census.Income = us_census.Income.replace(\"[\\$,]\", \"\", regex=True)\n"
     ]
    }
   ],
   "source": [
    "us_census.Income = us_census.Income.replace(\"[\\$,]\", \"\", regex=True)\n",
    "us_census.Income = pd.to_numeric(us_census.Income)\n",
    "us_census.TotalPop = pd.to_numeric(us_census.TotalPop)\n",
    "print(us_census.head())"
   ]
  },
  {
   "cell_type": "markdown",
   "metadata": {},
   "source": [
    "6. Look at the `GenderPop` column. We are going to want to separate this into two columns, the `Men` column, and the `Women` column.\n",
    "\n",
    "   Split the column into those two new columns using `str.split` and separating out those results."
   ]
  },
  {
   "cell_type": "code",
   "execution_count": 110,
   "metadata": {},
   "outputs": [],
   "source": [
    "gender_split = us_census.GenderPop.str.split(\"_\")\n",
    "us_census[\"Men\"] = gender_split.str.get(0)\n",
    "us_census[\"Women\"] = gender_split.str.get(1)"
   ]
  },
  {
   "cell_type": "markdown",
   "metadata": {},
   "source": [
    "7. Convert both of the columns into numerical datatypes.\n",
    "\n",
    "   There is still an `M` or an `F` character in each entry! We should remove those before we convert."
   ]
  },
  {
   "cell_type": "code",
   "execution_count": 112,
   "metadata": {},
   "outputs": [
    {
     "name": "stdout",
     "output_type": "stream",
     "text": [
      "   Unnamed: 0           State  TotalPop Hispanic   White   Black Native  \\\n",
      "0           0    Rhode Island   1053661   13.36%  74.33%   5.68%  0.35%   \n",
      "1           1  South Carolina   4777576    5.06%  62.89%  28.75%  0.29%   \n",
      "2           2    South Dakota    843190    3.24%  82.50%   1.42%  9.42%   \n",
      "3           3       Tennessee   6499615    4.72%  73.49%  18.28%  0.23%   \n",
      "4           4           Texas  26538614   38.05%  44.69%  11.65%  0.26%   \n",
      "\n",
      "   Asian Pacific    Income            GenderPop       Men       Women  \n",
      "0  3.25%   0.04%  59125.27      510388M_543273F    510388    543273.0  \n",
      "1  1.25%   0.05%  46296.81    2322409M_2455167F   2322409   2455167.0  \n",
      "2  1.02%   0.04%  51805.41      423477M_419713F    423477    419713.0  \n",
      "3  1.41%   0.04%  47328.08    3167756M_3331859F   3167756   3331859.0  \n",
      "4  3.67%   0.07%  55874.52  13171316M_13367298F  13171316  13367298.0  \n"
     ]
    }
   ],
   "source": [
    "us_census.Men = us_census.Men.replace(\"M\", \"\", regex=True)\n",
    "us_census.Men = pd.to_numeric(us_census.Men)\n",
    "us_census.Women = us_census.Women.replace(\"F\",\"\",regex=True)\n",
    "us_census.Women = pd.to_numeric(us_census.Women)\n",
    "\n",
    "print(us_census.head())"
   ]
  },
  {
   "cell_type": "markdown",
   "metadata": {},
   "source": [
    "8. Now you should have the columns you need to make the graph and make sure your boss does not slam a ruler angrily on your desk because you've wasted your whole day cleaning your data with no results to show!\n",
    "\n",
    "   Use matplotlib to make a scatterplot!\n",
    "   \n",
    "   ```py\n",
    "   plt.scatter(the_women_column, the_income_column)\n",
    "   ```\n",
    "   \n",
    "   Remember to call `plt.show()` to see the graph!"
   ]
  },
  {
   "cell_type": "code",
   "execution_count": 114,
   "metadata": {},
   "outputs": [
    {
     "data": {
      "image/png": "[encoded data removed]",
      "text/plain": [
       "<Figure size 640x480 with 1 Axes>"
      ]
     },
     "metadata": {},
     "output_type": "display_data"
    },
    {
     "data": {
      "text/plain": [
       "<Figure size 640x480 with 0 Axes>"
      ]
     },
     "metadata": {},
     "output_type": "display_data"
    }
   ],
   "source": [
    "plt.scatter(us_census.Women,us_census.Income)\n",
    "plt.show()\n",
    "plt.clf()"
   ]
  },
  {
   "cell_type": "markdown",
   "metadata": {},
   "source": [
    "9. You want to double check your work. You know from experience that these monstrous csv files probably have `nan` values in them! Print out your column with the number of women per state to see.\n",
    "\n",
    "   We can fill in those `nan`s by using pandas' `.fillna()` function.\n",
    "   \n",
    "   You have the `TotalPop` per state, and you have the `Men` per state. As an estimate for the `nan` values in the `Women` column, you could use the `TotalPop` of that state minus the `Men` for that state.\n",
    "   \n",
    "   Print out the `Women` column after filling the `nan` values to see if it worked!"
   ]
  },
  {
   "cell_type": "code",
   "execution_count": 140,
   "metadata": {},
   "outputs": [
    {
     "name": "stdout",
     "output_type": "stream",
     "text": [
      "Unnamed: 0      int64\n",
      "State          object\n",
      "TotalPop        int64\n",
      "Hispanic       object\n",
      "White          object\n",
      "Black          object\n",
      "Native         object\n",
      "Asian          object\n",
      "Pacific        object\n",
      "Income        float64\n",
      "GenderPop      object\n",
      "Men             int64\n",
      "Women         float64\n",
      "dtype: object\n",
      "0      543273.0\n",
      "1     2455167.0\n",
      "2      419713.0\n",
      "3     3331859.0\n",
      "4    13367298.0\n",
      "5     1444150.0\n",
      "0     1444150.0\n",
      "1      318031.0\n",
      "2     4195682.0\n",
      "3     3497739.0\n",
      "4      937789.0\n",
      "5     2890732.0\n",
      "0     3057895.0\n",
      "1     3455936.0\n",
      "2     5038598.0\n",
      "3     2727005.0\n",
      "4     1536358.0\n",
      "5     3081445.0\n",
      "0     3081445.0\n",
      "1      504536.0\n",
      "2      939759.0\n",
      "3     1390901.0\n",
      "4      670717.0\n",
      "5     4561386.0\n",
      "0     5913084.0\n",
      "1     1942789.0\n",
      "2     1990780.0\n",
      "3     6534215.0\n",
      "4     1869213.0\n",
      "5      543273.0\n",
      "0     4561386.0\n",
      "1     1051703.0\n",
      "2    10131373.0\n",
      "3     5049925.0\n",
      "4      353677.0\n",
      "5     5913084.0\n",
      "0     5123362.0\n",
      "1      696428.0\n",
      "2      806083.0\n",
      "3     6556862.0\n",
      "4     3333382.0\n",
      "5     1558931.0\n",
      "0     1558931.0\n",
      "1     1453125.0\n",
      "2     2233145.0\n",
      "3     2364097.0\n",
      "4      679019.0\n",
      "5     3057895.0\n",
      "0     2630239.0\n",
      "1     1841615.0\n",
      "2      478041.0\n",
      "3      340810.0\n",
      "4    10045763.0\n",
      "5     5123362.0\n",
      "0     2489527.0\n",
      "1      349215.0\n",
      "2     3342840.0\n",
      "3     1506295.0\n",
      "4    19334329.0\n",
      "5     2630239.0\n",
      "Name: Women, dtype: float64\n"
     ]
    }
   ],
   "source": [
    "#print(us_census.Women)\n",
    "print(us_census.dtypes)\n",
    "us_census = us_census.fillna(value={\"Women\":us_census.TotalPop-us_census.Men})\n",
    "print(us_census.Women)"
   ]
  },
  {
   "cell_type": "markdown",
   "metadata": {},
   "source": [
    "10. We forgot to check for duplicates! Use `.duplicated()` on your `census` DataFrame to see if we have duplicate rows in there."
   ]
  },
  {
   "cell_type": "code",
   "execution_count": 144,
   "metadata": {},
   "outputs": [
    {
     "name": "stdout",
     "output_type": "stream",
     "text": [
      "False    60\n",
      "Name: count, dtype: int64\n"
     ]
    }
   ],
   "source": [
    "duplicates = us_census.duplicated()\n",
    "print(duplicates.value_counts())"
   ]
  },
  {
   "cell_type": "markdown",
   "metadata": {},
   "source": [
    "11. Drop those duplicates using the `.drop_duplicates()` function."
   ]
  },
  {
   "cell_type": "code",
   "execution_count": null,
   "metadata": {},
   "outputs": [],
   "source": []
  },
  {
   "cell_type": "markdown",
   "metadata": {},
   "source": [
    "12. Make the scatterplot again. Now, it should be perfect! Your job is secure, for now."
   ]
  },
  {
   "cell_type": "code",
   "execution_count": 146,
   "metadata": {},
   "outputs": [
    {
     "data": {
      "image/png": "[encoded data removed]",
      "text/plain": [
       "<Figure size 640x480 with 1 Axes>"
      ]
     },
     "metadata": {},
     "output_type": "display_data"
    },
    {
     "data": {
      "text/plain": [
       "<Figure size 640x480 with 0 Axes>"
      ]
     },
     "metadata": {},
     "output_type": "display_data"
    }
   ],
   "source": [
    "plt.scatter(us_census.Women,us_census.Income)\n",
    "plt.show()\n",
    "plt.clf()"
   ]
  },
  {
   "cell_type": "markdown",
   "metadata": {},
   "source": [
    "## Histogram of Races"
   ]
  },
  {
   "cell_type": "markdown",
   "metadata": {},
   "source": [
    "13. Now your boss wants you to make a bunch of histograms out of the race data that you have. Look at the `.columns` again to see what the race categories are."
   ]
  },
  {
   "cell_type": "code",
   "execution_count": 148,
   "metadata": {},
   "outputs": [
    {
     "name": "stdout",
     "output_type": "stream",
     "text": [
      "Index(['Unnamed: 0', 'State', 'TotalPop', 'Hispanic', 'White', 'Black',\n",
      "       'Native', 'Asian', 'Pacific', 'Income', 'GenderPop', 'Men', 'Women'],\n",
      "      dtype='object')\n"
     ]
    }
   ],
   "source": [
    "print(us_census.columns)"
   ]
  },
  {
   "cell_type": "markdown",
   "metadata": {},
   "source": [
    "14. Try to make a histogram for each one!\n",
    "\n",
    "    You will have to get the columns into the numerical format, and those percentage signs will have to go.\n",
    "    \n",
    "    Don't forget to fill the `nan` values with something that makes sense! You probably dropped the duplicate rows when making your last graph, but it couldn't hurt to check for duplicates again."
   ]
  },
  {
   "cell_type": "code",
   "execution_count": 158,
   "metadata": {},
   "outputs": [
    {
     "name": "stderr",
     "output_type": "stream",
     "text": [
      "<>:4: SyntaxWarning: invalid escape sequence '\\%'\n",
      "<>:4: SyntaxWarning: invalid escape sequence '\\%'\n",
      "/var/folders/qg/s8gg4vzs3bb5bpn6czk7hhbr0000gp/T/ipykernel_54552/4272382696.py:4: SyntaxWarning: invalid escape sequence '\\%'\n",
      "  us_census[column] = us_census[column].replace(\"[\\%]\", \"\", regex=True)\n"
     ]
    },
    {
     "data": {
      "image/png": "[encoded data removed]",
      "text/plain": [
       "<Figure size 640x480 with 1 Axes>"
      ]
     },
     "metadata": {},
     "output_type": "display_data"
    },
    {
     "data": {
      "image/png": "[encoded data removed]",
      "text/plain": [
       "<Figure size 640x480 with 1 Axes>"
      ]
     },
     "metadata": {},
     "output_type": "display_data"
    },
    {
     "data": {
      "image/png": "[encoded data removed]",
      "text/plain": [
       "<Figure size 640x480 with 1 Axes>"
      ]
     },
     "metadata": {},
     "output_type": "display_data"
    },
    {
     "data": {
      "image/png": "[encoded data removed]",
      "text/plain": [
       "<Figure size 640x480 with 1 Axes>"
      ]
     },
     "metadata": {},
     "output_type": "display_data"
    },
    {
     "data": {
      "image/png": "[encoded data removed]",
      "text/plain": [
       "<Figure size 640x480 with 1 Axes>"
      ]
     },
     "metadata": {},
     "output_type": "display_data"
    },
    {
     "data": {
      "image/png": "[encoded data removed]",
      "text/plain": [
       "<Figure size 640x480 with 1 Axes>"
      ]
     },
     "metadata": {},
     "output_type": "display_data"
    },
    {
     "name": "stdout",
     "output_type": "stream",
     "text": [
      "   Unnamed: 0           State  TotalPop  Hispanic  White  Black  Native  \\\n",
      "0           0    Rhode Island   1053661     13.36  74.33   5.68    0.35   \n",
      "1           1  South Carolina   4777576      5.06  62.89  28.75    0.29   \n",
      "2           2    South Dakota    843190      3.24  82.50   1.42    9.42   \n",
      "3           3       Tennessee   6499615      4.72  73.49  18.28    0.23   \n",
      "4           4           Texas  26538614     38.05  44.69  11.65    0.26   \n",
      "\n",
      "   Asian  Pacific    Income            GenderPop       Men       Women  \n",
      "0   3.25     0.04  59125.27      510388M_543273F    510388    543273.0  \n",
      "1   1.25     0.05  46296.81    2322409M_2455167F   2322409   2455167.0  \n",
      "2   1.02     0.04  51805.41      423477M_419713F    423477    419713.0  \n",
      "3   1.41     0.04  47328.08    3167756M_3331859F   3167756   3331859.0  \n",
      "4   3.67     0.07  55874.52  13171316M_13367298F  13171316  13367298.0  \n"
     ]
    },
    {
     "data": {
      "text/plain": [
       "<Figure size 640x480 with 0 Axes>"
      ]
     },
     "metadata": {},
     "output_type": "display_data"
    }
   ],
   "source": [
    "columns = us_census.columns\n",
    "columns_race = columns[3:-4]\n",
    "for column in columns_race:\n",
    "    us_census[column] = us_census[column].replace(\"[\\%]\", \"\", regex=True)\n",
    "    us_census[column] = pd.to_numeric(us_census[column])\n",
    "    us_census = us_census.fillna(value={column:np.mean(us_census[column])})\n",
    "    us_census[column] = pd.to_numeric(us_census[column])\n",
    "    plt.hist(us_census[column])\n",
    "    plt.show()\n",
    "    plt.clf()\n",
    "\n",
    "print(us_census.head())"
   ]
  },
  {
   "cell_type": "markdown",
   "metadata": {},
   "source": [
    "## Get Creative"
   ]
  },
  {
   "cell_type": "markdown",
   "metadata": {},
   "source": [
    "15. Phew. You've definitely impressed your boss on your first day of work.\n",
    "\n",
    "    But is there a way you really convey the power of pandas and Python over the drudgery of `csv` and Excel?\n",
    "    \n",
    "    Try to make some more interesting graphs to show your boss, and the world! You may need to clean the data even more to do it, or the cleaning you have already done may give you the ease of manipulation you've been searching for."
   ]
  },
  {
   "cell_type": "code",
   "execution_count": null,
   "metadata": {},
   "outputs": [],
   "source": []
  }
 ],
 "metadata": {
  "kernelspec": {
   "display_name": "Python 3 (ipykernel)",
   "language": "python",
   "name": "python3"
  },
  "language_info": {
   "codemirror_mode": {
    "name": "ipython",
    "version": 3
   },
   "file_extension": ".py",
   "mimetype": "text/x-python",
   "name": "python",
   "nbconvert_exporter": "python",
   "pygments_lexer": "ipython3",
   "version": "3.12.4"
  }
 },
 "nbformat": 4,
 "nbformat_minor": 4
}
