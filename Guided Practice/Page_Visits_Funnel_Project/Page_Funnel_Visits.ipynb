{
 "cells": [
  {
   "cell_type": "code",
   "execution_count": 242,
   "metadata": {},
   "outputs": [],
   "source": [
    "import pandas as pd"
   ]
  },
  {
   "cell_type": "markdown",
   "metadata": {},
   "source": [
    "Import all the files"
   ]
  },
  {
   "cell_type": "code",
   "execution_count": 244,
   "metadata": {},
   "outputs": [],
   "source": [
    "visits = pd.read_csv('visits.csv',\n",
    "                     parse_dates=[1])\n",
    "cart = pd.read_csv('cart.csv',\n",
    "                   parse_dates=[1])\n",
    "                   \n",
    "checkout = pd.read_csv('checkout.csv',\n",
    "                       parse_dates=[1])\n",
    "purchase = pd.read_csv('purchase.csv',\n",
    "                       parse_dates=[1])"
   ]
  },
  {
   "cell_type": "markdown",
   "metadata": {},
   "source": [
    "Step 1: Inspect the DataFrames using `print` and `head`"
   ]
  },
  {
   "cell_type": "code",
   "execution_count": 283,
   "metadata": {},
   "outputs": [
    {
     "name": "stdout",
     "output_type": "stream",
     "text": [
      "                                user_id          visit_time\n",
      "0  943647ef-3682-4750-a2e1-918ba6f16188 2017-04-07 15:14:00\n",
      "1  0c3a3dd0-fb64-4eac-bf84-ba069ce409f2 2017-01-26 14:24:00\n",
      "2  6e0b2d60-4027-4d9a-babd-0e7d40859fb1 2017-08-20 08:23:00\n",
      "3  6879527e-c5a6-4d14-b2da-50b85212b0ab 2017-11-04 18:15:00\n",
      "4  a84327ff-5daa-4ba1-b789-d5b4caf81e96 2017-02-27 11:25:00\n",
      "2000\n",
      "2000\n",
      "                                user_id           cart_time\n",
      "0  2be90e7c-9cca-44e0-bcc5-124b945ff168 2017-11-07 20:45:00\n",
      "1  4397f73f-1da3-4ab3-91af-762792e25973 2017-05-27 01:35:00\n",
      "2  a9db3d4b-0a0a-4398-a55a-ebb2c7adf663 2017-03-04 10:38:00\n",
      "3  b594862a-36c5-47d5-b818-6e9512b939b3 2017-09-27 08:22:00\n",
      "4  a68a16e2-94f0-4ce8-8ce3-784af0bbb974 2017-07-26 15:48:00\n",
      "348\n",
      "                                user_id       checkout_time\n",
      "0  d33bdc47-4afa-45bc-b4e4-dbe948e34c0d 2017-06-25 09:29:00\n",
      "1  4ac186f0-9954-4fea-8a27-c081e428e34e 2017-04-07 20:11:00\n",
      "2  3c9c78a7-124a-4b77-8d2e-e1926e011e7d 2017-07-13 11:38:00\n",
      "3  89fe330a-8966-4756-8f7c-3bdbcd47279a 2017-04-20 16:15:00\n",
      "4  3ccdaf69-2d30-40de-b083-51372881aedd 2017-01-08 20:52:00\n",
      "226\n",
      "                                user_id       purchase_time\n",
      "0  4b44ace4-2721-47a0-b24b-15fbfa2abf85 2017-05-11 04:25:00\n",
      "1  02e684ae-a448-408f-a9ff-dcb4a5c99aac 2017-09-05 08:45:00\n",
      "2  4b4bc391-749e-4b90-ab8f-4f6e3c84d6dc 2017-11-20 20:49:00\n",
      "3  a5dbb25f-3c36-4103-9030-9f7c6241cd8d 2017-01-22 15:18:00\n",
      "4  46a3186d-7f5a-4ab9-87af-84d05bfd4867 2017-06-11 11:32:00\n",
      "252\n"
     ]
    }
   ],
   "source": [
    "print(visits.head(5))\n",
    "print(len(visits))\n",
    "print(cart.head(5))\n",
    "print(len(cart))\n",
    "print(checkout.head(5))\n",
    "print(len(checkout))\n",
    "print(purchase.head(5))\n",
    "print(len(purchase))"
   ]
  },
  {
   "cell_type": "markdown",
   "metadata": {},
   "source": [
    "Step 2: Left merging visits and cart"
   ]
  },
  {
   "cell_type": "code",
   "execution_count": 248,
   "metadata": {},
   "outputs": [],
   "source": [
    "visits_cart = pd.merge(visits,cart,how=\"outer\")"
   ]
  },
  {
   "cell_type": "markdown",
   "metadata": {},
   "source": [
    "Step 3: How long is `visits_cart`?"
   ]
  },
  {
   "cell_type": "code",
   "execution_count": 250,
   "metadata": {},
   "outputs": [
    {
     "name": "stdout",
     "output_type": "stream",
     "text": [
      "2000\n"
     ]
    }
   ],
   "source": [
    "print(len(visits_cart))"
   ]
  },
  {
   "cell_type": "markdown",
   "metadata": {},
   "source": [
    "Step 4: How many timestamps are null for `cart_time`?"
   ]
  },
  {
   "cell_type": "code",
   "execution_count": 252,
   "metadata": {},
   "outputs": [
    {
     "name": "stdout",
     "output_type": "stream",
     "text": [
      "1652\n"
     ]
    }
   ],
   "source": [
    "print(len(visits_cart[visits_cart.cart_time.isnull()]))"
   ]
  },
  {
   "cell_type": "markdown",
   "metadata": {},
   "source": [
    "Step 5: What percentage only visited?"
   ]
  },
  {
   "cell_type": "code",
   "execution_count": 254,
   "metadata": {},
   "outputs": [
    {
     "name": "stdout",
     "output_type": "stream",
     "text": [
      "0.826\n"
     ]
    }
   ],
   "source": [
    "print(len(visits_cart[visits_cart.cart_time.isnull()])/len(visits_cart))"
   ]
  },
  {
   "cell_type": "markdown",
   "metadata": {},
   "source": [
    "Step 6: What percentage placed a t-shirt in their cart but did not checkout?"
   ]
  },
  {
   "cell_type": "code",
   "execution_count": 256,
   "metadata": {},
   "outputs": [
    {
     "name": "stdout",
     "output_type": "stream",
     "text": [
      "0.3505747126436782\n"
     ]
    }
   ],
   "source": [
    "cart_checkout = pd.merge(cart,checkout,how=\"outer\")\n",
    "print(len(cart_checkout[cart_checkout.checkout_time.isnull()])/len(cart_checkout))"
   ]
  },
  {
   "cell_type": "markdown",
   "metadata": {},
   "source": [
    "Step 7: Merge it all together"
   ]
  },
  {
   "cell_type": "code",
   "execution_count": 287,
   "metadata": {},
   "outputs": [
    {
     "name": "stdout",
     "output_type": "stream",
     "text": [
      "                                user_id          visit_time  \\\n",
      "0  0000be8d-c6f8-47b7-9c10-11ea2810f011 2017-08-21 04:49:00   \n",
      "1  00065d4e-909c-48b5-a69e-27a1abbdbb87 2017-11-14 08:07:00   \n",
      "2  000b010b-4406-4fd0-97da-747d792a99c5 2017-07-07 10:13:00   \n",
      "3  007b2a00-7b11-4181-a976-795b8d9e9bb8 2017-06-27 18:34:00   \n",
      "4  009270e0-1d69-4090-9f9a-b0b874b7e6e0 2017-03-01 09:08:00   \n",
      "5  009a74a7-6ef3-4cb3-96c8-94862f2c2568 2017-04-13 02:18:00   \n",
      "6  00aa175c-183e-4d79-b49d-47d4999028fc 2017-04-01 20:32:00   \n",
      "7  00b86667-9c87-4711-a4ad-f6d096f07a7c 2017-01-13 05:44:00   \n",
      "8  00d99c10-1d3b-49f2-9d65-20cb11691bf4 2017-09-24 13:43:00   \n",
      "9  00dc3f04-1b70-4654-ba74-cf6d34ca7141 2017-02-05 10:53:00   \n",
      "\n",
      "            cart_time       checkout_time       purchase_time  \n",
      "0                 NaT                 NaT                 NaT  \n",
      "1 2017-11-14 08:11:00 2017-11-14 08:38:00 2017-11-14 08:50:00  \n",
      "2                 NaT                 NaT                 NaT  \n",
      "3                 NaT                 NaT                 NaT  \n",
      "4 2017-03-01 09:17:00 2017-03-01 09:31:00 2017-03-01 09:37:00  \n",
      "5                 NaT                 NaT                 NaT  \n",
      "6                 NaT                 NaT                 NaT  \n",
      "7                 NaT                 NaT                 NaT  \n",
      "8                 NaT                 NaT                 NaT  \n",
      "9 2017-02-05 11:13:00                 NaT                 NaT  \n",
      "2108\n",
      "Out of 2108 total users, there were 2000 unique users.\n"
     ]
    }
   ],
   "source": [
    "all_data = visits.merge(cart,how=\"outer\").merge(checkout,how=\"outer\").merge(purchase,how=\"outer\")\n",
    "print(all_data.head(10))\n",
    "print(len(all_data))\n",
    "print(\"Out of {} total users, there were {} unique users.\".format(len(all_data),all_data.user_id.nunique()))"
   ]
  },
  {
   "cell_type": "markdown",
   "metadata": {},
   "source": [
    "Step 8: % of users who got to checkout but did not purchase"
   ]
  },
  {
   "cell_type": "code",
   "execution_count": 260,
   "metadata": {},
   "outputs": [
    {
     "name": "stdout",
     "output_type": "stream",
     "text": [
      "Out of all users, 3.89% reached the checkout process but did not ultimately purchase the product.\n"
     ]
    }
   ],
   "source": [
    "print(\"Out of all users, {}% reached the checkout process but did not ultimately purchase the product.\"\\\n",
    "      .format(round(len(all_data[all_data.checkout_time.notnull() & all_data.purchase_time.isnull()])/len(all_data)*100,3)))"
   ]
  },
  {
   "cell_type": "markdown",
   "metadata": {},
   "source": [
    "Step 9: check each part of the funnel, let's print all 3 of them again"
   ]
  },
  {
   "cell_type": "code",
   "execution_count": 262,
   "metadata": {},
   "outputs": [
    {
     "name": "stdout",
     "output_type": "stream",
     "text": [
      "78.37% of users who visit the site do not add a shirt to their cart.\n",
      "26.75% of users who add a shirt to their cart do not begin the checkout process.\n",
      "24.55% of users who begin the checkout process do not ultimately make a purchase.\n"
     ]
    }
   ],
   "source": [
    "visit_no_cart_percent = len(all_data[all_data.cart_time.isnull()])/len(all_data)\n",
    "cart_no_checkout_percent = len(all_data[all_data.checkout_time.isnull() & all_data.cart_time.notnull()])/\\\n",
    "len(all_data[all_data.cart_time.notnull()])\n",
    "checkout_no_purchase_percent = len(all_data[all_data.checkout_time.notnull() & all_data.purchase_time.isnull()])/\\\n",
    "len(all_data[all_data.checkout_time.notnull()])\n",
    "\n",
    "print(\"{}% of users who visit the site do not add a shirt to their cart.\".format(round(visit_no_cart_percent*100,2)))\n",
    "print(\"{}% of users who add a shirt to their cart do not begin the checkout process.\".format(round(cart_no_checkout_percent*100,2)))\n",
    "print(\"{}% of users who begin the checkout process do not ultimately make a purchase.\".format(round(checkout_no_purchase_percent*100,2)))"
   ]
  },
  {
   "cell_type": "markdown",
   "metadata": {},
   "source": [
    "*The weakest part of the funnel is clearly getting a person who visited the site to add a tshirt to their cart. Once they've added a t-shirt to their cart it is fairly likely they end up purchasing it. A suggestion could be to make the add-to-cart button more prominent on the front page.*\n",
    "\n",
    "\n",
    "Step 10: adding new column"
   ]
  },
  {
   "cell_type": "code",
   "execution_count": 291,
   "metadata": {},
   "outputs": [
    {
     "name": "stdout",
     "output_type": "stream",
     "text": [
      "                                user_id          visit_time  \\\n",
      "0  0000be8d-c6f8-47b7-9c10-11ea2810f011 2017-08-21 04:49:00   \n",
      "1  00065d4e-909c-48b5-a69e-27a1abbdbb87 2017-11-14 08:07:00   \n",
      "2  000b010b-4406-4fd0-97da-747d792a99c5 2017-07-07 10:13:00   \n",
      "3  007b2a00-7b11-4181-a976-795b8d9e9bb8 2017-06-27 18:34:00   \n",
      "4  009270e0-1d69-4090-9f9a-b0b874b7e6e0 2017-03-01 09:08:00   \n",
      "5  009a74a7-6ef3-4cb3-96c8-94862f2c2568 2017-04-13 02:18:00   \n",
      "6  00aa175c-183e-4d79-b49d-47d4999028fc 2017-04-01 20:32:00   \n",
      "7  00b86667-9c87-4711-a4ad-f6d096f07a7c 2017-01-13 05:44:00   \n",
      "8  00d99c10-1d3b-49f2-9d65-20cb11691bf4 2017-09-24 13:43:00   \n",
      "9  00dc3f04-1b70-4654-ba74-cf6d34ca7141 2017-02-05 10:53:00   \n",
      "\n",
      "            cart_time       checkout_time       purchase_time  \\\n",
      "0                 NaT                 NaT                 NaT   \n",
      "1 2017-11-14 08:11:00 2017-11-14 08:38:00 2017-11-14 08:50:00   \n",
      "2                 NaT                 NaT                 NaT   \n",
      "3                 NaT                 NaT                 NaT   \n",
      "4 2017-03-01 09:17:00 2017-03-01 09:31:00 2017-03-01 09:37:00   \n",
      "5                 NaT                 NaT                 NaT   \n",
      "6                 NaT                 NaT                 NaT   \n",
      "7                 NaT                 NaT                 NaT   \n",
      "8                 NaT                 NaT                 NaT   \n",
      "9 2017-02-05 11:13:00                 NaT                 NaT   \n",
      "\n",
      "  average_time_to_purchase  \n",
      "0                      NaT  \n",
      "1          0 days 00:43:00  \n",
      "2                      NaT  \n",
      "3                      NaT  \n",
      "4          0 days 00:29:00  \n",
      "5                      NaT  \n",
      "6                      NaT  \n",
      "7                      NaT  \n",
      "8                      NaT  \n",
      "9                      NaT  \n"
     ]
    }
   ],
   "source": [
    "all_data[\"average_time_to_purchase\"] = all_data.purchase_time - all_data.visit_time\n",
    "print(all_data.head(10))"
   ]
  },
  {
   "cell_type": "markdown",
   "metadata": {},
   "source": [
    "Step 11: examine the results"
   ]
  },
  {
   "cell_type": "code",
   "execution_count": null,
   "metadata": {},
   "outputs": [],
   "source": []
  },
  {
   "cell_type": "markdown",
   "metadata": {},
   "source": [
    "Step 12: average time to purchase"
   ]
  },
  {
   "cell_type": "code",
   "execution_count": 295,
   "metadata": {},
   "outputs": [
    {
     "name": "stdout",
     "output_type": "stream",
     "text": [
      "On average, the users who made a purchase did so in 0 days 00:43:12.380952380.\n"
     ]
    }
   ],
   "source": [
    "print(\"On average, the users who made a purchase did so in {}.\".format(all_data.average_time_to_purchase.mean()))"
   ]
  },
  {
   "cell_type": "code",
   "execution_count": null,
   "metadata": {},
   "outputs": [],
   "source": []
  }
 ],
 "metadata": {
  "kernelspec": {
   "display_name": "Python 3 (ipykernel)",
   "language": "python",
   "name": "python3"
  },
  "language_info": {
   "codemirror_mode": {
    "name": "ipython",
    "version": 3
   },
   "file_extension": ".py",
   "mimetype": "text/x-python",
   "name": "python",
   "nbconvert_exporter": "python",
   "pygments_lexer": "ipython3",
   "version": "3.12.4"
  }
 },
 "nbformat": 4,
 "nbformat_minor": 4
}
